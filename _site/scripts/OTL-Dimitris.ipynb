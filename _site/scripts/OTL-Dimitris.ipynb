{
 "cells": [
  {
   "cell_type": "markdown",
   "metadata": {},
   "source": [
    "# How to generate topological constraints using the Open Tree of Life"
   ]
  },
  {
   "cell_type": "markdown",
   "metadata": {},
   "source": [
    "Stuff for the Jupyter notebook which you can ignore..."
   ]
  },
  {
   "cell_type": "code",
   "execution_count": 86,
   "metadata": {
    "collapsed": true
   },
   "outputs": [],
   "source": [
    "library(repr)\n",
    "options(repr.plot.width = 8, repr.plot.height = 3)"
   ]
  },
  {
   "cell_type": "markdown",
   "metadata": {},
   "source": [
    "To retrieve topologies from the Open Tree of Life, we need the ``rotl`` R package. We'll also load the ape package to manipulate the tree."
   ]
  },
  {
   "cell_type": "code",
   "execution_count": 91,
   "metadata": {
    "collapsed": false
   },
   "outputs": [
    {
     "name": "stderr",
     "output_type": "stream",
     "text": [
      "Installing package into ‘/home/dgkontopoulos/R/x86_64-pc-linux-gnu-library/3.3’\n",
      "(as ‘lib’ is unspecified)\n"
     ]
    }
   ],
   "source": [
    "install.packages(\"rotl\")\n",
    "library(\"rotl\")\n",
    "library(\"ape\")"
   ]
  },
  {
   "cell_type": "markdown",
   "metadata": {},
   "source": [
    "Now, let's create a vector of species names for which we want a tree topology and match them to those of the Open Tree taxonomy:"
   ]
  },
  {
   "cell_type": "code",
   "execution_count": 94,
   "metadata": {
    "collapsed": false
   },
   "outputs": [
    {
     "data": {
      "text/html": [
       "<table>\n",
       "<thead><tr><th scope=col>search_string</th><th scope=col>unique_name</th><th scope=col>approximate_match</th><th scope=col>ott_id</th><th scope=col>is_synonym</th><th scope=col>flags</th><th scope=col>number_matches</th></tr></thead>\n",
       "<tbody>\n",
       "\t<tr><td>homo sapiens            </td><td>Homo sapiens            </td><td>FALSE                   </td><td>770315                  </td><td>FALSE                   </td><td>                        </td><td>1                       </td></tr>\n",
       "\t<tr><td>felis catus             </td><td>Felis catus             </td><td>FALSE                   </td><td>563166                  </td><td>FALSE                   </td><td>                        </td><td>2                       </td></tr>\n",
       "\t<tr><td>crocodylus niloticus    </td><td>Crocodylus niloticus    </td><td>FALSE                   </td><td>35864                   </td><td>FALSE                   </td><td>                        </td><td>2                       </td></tr>\n",
       "\t<tr><td>nymphicus hollandicus   </td><td>Nymphicus hollandicus   </td><td>FALSE                   </td><td>630645                  </td><td>FALSE                   </td><td>                        </td><td>1                       </td></tr>\n",
       "\t<tr><td>vitis vinifera          </td><td>Vitis vinifera          </td><td>FALSE                   </td><td>756728                  </td><td>FALSE                   </td><td>                        </td><td>6                       </td></tr>\n",
       "\t<tr><td>geobacter daltonii      </td><td>Geobacter daltonii      </td><td>FALSE                   </td><td>489275                  </td><td>FALSE                   </td><td>                        </td><td>1                       </td></tr>\n",
       "\t<tr><td>thermoplasma acidophilum</td><td>Thermoplasma acidophilum</td><td>FALSE                   </td><td>891210                  </td><td>FALSE                   </td><td>                        </td><td>1                       </td></tr>\n",
       "\t<tr><td>caulophacus agassizi    </td><td>Caulophacus agassizi    </td><td>FALSE                   </td><td>2832726                 </td><td>FALSE                   </td><td>                        </td><td>1                       </td></tr>\n",
       "\t<tr><td>caulophacus arcticus    </td><td>Caulophacus arcticus    </td><td>FALSE                   </td><td>612407                  </td><td>FALSE                   </td><td>                        </td><td>1                       </td></tr>\n",
       "\t<tr><td>caulophacus cyanae      </td><td>Caulophacus cyanae      </td><td>FALSE                   </td><td>4939783                 </td><td>FALSE                   </td><td>                        </td><td>1                       </td></tr>\n",
       "\t<tr><td>caulophacus galatheae   </td><td>Caulophacus galatheae   </td><td>FALSE                   </td><td>2832723                 </td><td>FALSE                   </td><td>                        </td><td>1                       </td></tr>\n",
       "</tbody>\n",
       "</table>\n"
      ],
      "text/latex": [
       "\\begin{tabular}{r|lllllll}\n",
       " search\\_string & unique\\_name & approximate\\_match & ott\\_id & is\\_synonym & flags & number\\_matches\\\\\n",
       "\\hline\n",
       "\t homo sapiens             & Homo sapiens             & FALSE                    & 770315                   & FALSE                    &                          & 1                       \\\\\n",
       "\t felis catus              & Felis catus              & FALSE                    & 563166                   & FALSE                    &                          & 2                       \\\\\n",
       "\t crocodylus niloticus     & Crocodylus niloticus     & FALSE                    & 35864                    & FALSE                    &                          & 2                       \\\\\n",
       "\t nymphicus hollandicus    & Nymphicus hollandicus    & FALSE                    & 630645                   & FALSE                    &                          & 1                       \\\\\n",
       "\t vitis vinifera           & Vitis vinifera           & FALSE                    & 756728                   & FALSE                    &                          & 6                       \\\\\n",
       "\t geobacter daltonii       & Geobacter daltonii       & FALSE                    & 489275                   & FALSE                    &                          & 1                       \\\\\n",
       "\t thermoplasma acidophilum & Thermoplasma acidophilum & FALSE                    & 891210                   & FALSE                    &                          & 1                       \\\\\n",
       "\t caulophacus agassizi     & Caulophacus agassizi     & FALSE                    & 2832726                  & FALSE                    &                          & 1                       \\\\\n",
       "\t caulophacus arcticus     & Caulophacus arcticus     & FALSE                    & 612407                   & FALSE                    &                          & 1                       \\\\\n",
       "\t caulophacus cyanae       & Caulophacus cyanae       & FALSE                    & 4939783                  & FALSE                    &                          & 1                       \\\\\n",
       "\t caulophacus galatheae    & Caulophacus galatheae    & FALSE                    & 2832723                  & FALSE                    &                          & 1                       \\\\\n",
       "\\end{tabular}\n"
      ],
      "text/markdown": [
       "\n",
       "search_string | unique_name | approximate_match | ott_id | is_synonym | flags | number_matches | \n",
       "|---|---|---|---|---|---|---|---|---|---|---|\n",
       "| homo sapiens             | Homo sapiens             | FALSE                    | 770315                   | FALSE                    |                          | 1                        | \n",
       "| felis catus              | Felis catus              | FALSE                    | 563166                   | FALSE                    |                          | 2                        | \n",
       "| crocodylus niloticus     | Crocodylus niloticus     | FALSE                    | 35864                    | FALSE                    |                          | 2                        | \n",
       "| nymphicus hollandicus    | Nymphicus hollandicus    | FALSE                    | 630645                   | FALSE                    |                          | 1                        | \n",
       "| vitis vinifera           | Vitis vinifera           | FALSE                    | 756728                   | FALSE                    |                          | 6                        | \n",
       "| geobacter daltonii       | Geobacter daltonii       | FALSE                    | 489275                   | FALSE                    |                          | 1                        | \n",
       "| thermoplasma acidophilum | Thermoplasma acidophilum | FALSE                    | 891210                   | FALSE                    |                          | 1                        | \n",
       "| caulophacus agassizi     | Caulophacus agassizi     | FALSE                    | 2832726                  | FALSE                    |                          | 1                        | \n",
       "| caulophacus arcticus     | Caulophacus arcticus     | FALSE                    | 612407                   | FALSE                    |                          | 1                        | \n",
       "| caulophacus cyanae       | Caulophacus cyanae       | FALSE                    | 4939783                  | FALSE                    |                          | 1                        | \n",
       "| caulophacus galatheae    | Caulophacus galatheae    | FALSE                    | 2832723                  | FALSE                    |                          | 1                        | \n",
       "\n",
       "\n"
      ],
      "text/plain": [
       "   search_string            unique_name              approximate_match ott_id \n",
       "1  homo sapiens             Homo sapiens             FALSE             770315 \n",
       "2  felis catus              Felis catus              FALSE             563166 \n",
       "3  crocodylus niloticus     Crocodylus niloticus     FALSE             35864  \n",
       "4  nymphicus hollandicus    Nymphicus hollandicus    FALSE             630645 \n",
       "5  vitis vinifera           Vitis vinifera           FALSE             756728 \n",
       "6  geobacter daltonii       Geobacter daltonii       FALSE             489275 \n",
       "7  thermoplasma acidophilum Thermoplasma acidophilum FALSE             891210 \n",
       "8  caulophacus agassizi     Caulophacus agassizi     FALSE             2832726\n",
       "9  caulophacus arcticus     Caulophacus arcticus     FALSE             612407 \n",
       "10 caulophacus cyanae       Caulophacus cyanae       FALSE             4939783\n",
       "11 caulophacus galatheae    Caulophacus galatheae    FALSE             2832723\n",
       "   is_synonym flags number_matches\n",
       "1  FALSE            1             \n",
       "2  FALSE            2             \n",
       "3  FALSE            2             \n",
       "4  FALSE            1             \n",
       "5  FALSE            6             \n",
       "6  FALSE            1             \n",
       "7  FALSE            1             \n",
       "8  FALSE            1             \n",
       "9  FALSE            1             \n",
       "10 FALSE            1             \n",
       "11 FALSE            1             "
      ]
     },
     "metadata": {},
     "output_type": "display_data"
    }
   ],
   "source": [
    "species <- c(\n",
    "    \"Homo sapiens\", \"Felis catus\", \"Crocodylus niloticus\", \"Nymphicus hollandicus\", \n",
    "    \"Vitis vinifera\", \"Geobacter daltonii\", \"Thermoplasma acidophilum\", \"Caulophacus agassizi\", \n",
    "    \"Caulophacus arcticus\", \"Caulophacus cyanae\", \"Caulophacus galatheae\"\n",
    ")\n",
    "\n",
    "resolved_names <- tnrs_match_names(species)\n",
    "resolved_names"
   ]
  },
  {
   "cell_type": "markdown",
   "metadata": {},
   "source": [
    "Return the subset of the Open Tree of Life that contains the matched species:"
   ]
  },
  {
   "cell_type": "code",
   "execution_count": 81,
   "metadata": {
    "collapsed": false
   },
   "outputs": [
    {
     "data": {
      "image/png": "[encoded data removed]",
      "text/plain": [
       "plot without title"
      ]
     },
     "metadata": {},
     "output_type": "display_data"
    }
   ],
   "source": [
    "tree <- tol_induced_subtree(ott_ids=ott_id(resolved_names))\n",
    "plot(tree, cex = 0.8, no.margin = TRUE)"
   ]
  },
  {
   "cell_type": "markdown",
   "metadata": {},
   "source": [
    "The tree may also contain the names of some of its clades:"
   ]
  },
  {
   "cell_type": "code",
   "execution_count": 80,
   "metadata": {
    "collapsed": false
   },
   "outputs": [
    {
     "data": {
      "image/png": "[encoded data removed]",
      "text/plain": [
       "plot without title"
      ]
     },
     "metadata": {},
     "output_type": "display_data"
    }
   ],
   "source": [
    "plot(tree, cex = 0.8, show.node.label = TRUE, no.margin = TRUE)"
   ]
  },
  {
   "cell_type": "markdown",
   "metadata": {},
   "source": [
    "To infer phylogenies under the constraints of this tree, we have to remove the ott\\* IDs from species names and save the tree to a file. \n",
    "\n",
    "The former can be done with a small regular expression:"
   ]
  },
  {
   "cell_type": "code",
   "execution_count": 92,
   "metadata": {
    "collapsed": false
   },
   "outputs": [
    {
     "data": {
      "text/html": [
       "<ol class=list-inline>\n",
       "\t<li>'Homo_sapiens'</li>\n",
       "\t<li>'Felis_catus'</li>\n",
       "\t<li>'Nymphicus_hollandicus'</li>\n",
       "\t<li>'Crocodylus_niloticus'</li>\n",
       "\t<li>'Caulophacus_agassizi'</li>\n",
       "\t<li>'Caulophacus_arcticus'</li>\n",
       "\t<li>'Caulophacus_cyanae'</li>\n",
       "\t<li>'Caulophacus_galatheae'</li>\n",
       "\t<li>'Vitis_vinifera'</li>\n",
       "\t<li>'Thermoplasma_acidophilum'</li>\n",
       "\t<li>'Geobacter_daltonii'</li>\n",
       "</ol>\n"
      ],
      "text/latex": [
       "\\begin{enumerate*}\n",
       "\\item 'Homo\\_sapiens'\n",
       "\\item 'Felis\\_catus'\n",
       "\\item 'Nymphicus\\_hollandicus'\n",
       "\\item 'Crocodylus\\_niloticus'\n",
       "\\item 'Caulophacus\\_agassizi'\n",
       "\\item 'Caulophacus\\_arcticus'\n",
       "\\item 'Caulophacus\\_cyanae'\n",
       "\\item 'Caulophacus\\_galatheae'\n",
       "\\item 'Vitis\\_vinifera'\n",
       "\\item 'Thermoplasma\\_acidophilum'\n",
       "\\item 'Geobacter\\_daltonii'\n",
       "\\end{enumerate*}\n"
      ],
      "text/markdown": [
       "1. 'Homo_sapiens'\n",
       "2. 'Felis_catus'\n",
       "3. 'Nymphicus_hollandicus'\n",
       "4. 'Crocodylus_niloticus'\n",
       "5. 'Caulophacus_agassizi'\n",
       "6. 'Caulophacus_arcticus'\n",
       "7. 'Caulophacus_cyanae'\n",
       "8. 'Caulophacus_galatheae'\n",
       "9. 'Vitis_vinifera'\n",
       "10. 'Thermoplasma_acidophilum'\n",
       "11. 'Geobacter_daltonii'\n",
       "\n",
       "\n"
      ],
      "text/plain": [
       " [1] \"Homo_sapiens\"             \"Felis_catus\"             \n",
       " [3] \"Nymphicus_hollandicus\"    \"Crocodylus_niloticus\"    \n",
       " [5] \"Caulophacus_agassizi\"     \"Caulophacus_arcticus\"    \n",
       " [7] \"Caulophacus_cyanae\"       \"Caulophacus_galatheae\"   \n",
       " [9] \"Vitis_vinifera\"           \"Thermoplasma_acidophilum\"\n",
       "[11] \"Geobacter_daltonii\"      "
      ]
     },
     "metadata": {},
     "output_type": "display_data"
    }
   ],
   "source": [
    "tree$tip.label <- gsub(\"_ott\\\\d+$\", \"\", tree$tip.label)\n",
    "tree$tip.label\n",
    "\n",
    "write.tree(tree, file = 'constraint_tree.phy')"
   ]
  },
  {
   "cell_type": "markdown",
   "metadata": {},
   "source": [
    "Ta-daaa! Our constraint tree is ready! A number of phylogeny inference programs can use it to constrain topological exploration:\n",
    "\n",
    "* **RAxML** and **IQ-TREE:** -g path_to_constraint_tree\n",
    "\n",
    "\n",
    "* **PhyML:** -u=path_to_constraint_tree --constraint_file=path_to_constraint_tree\n",
    "\n",
    "\n",
    "* **MrBayes:** use the function **``createMrBayesConstraints``** in the R package **``paleotree``** to generate a MrBayes NEXUS block of topological constraints from the tree. Next, paste the block to the input file to be read by MrBayes."
   ]
  }
 ],
 "metadata": {
  "kernelspec": {
   "display_name": "R",
   "language": "R",
   "name": "ir"
  },
  "language_info": {
   "codemirror_mode": "r",
   "file_extension": ".r",
   "mimetype": "text/x-r-source",
   "name": "R",
   "pygments_lexer": "r",
   "version": "3.3.1"
  }
 },
 "nbformat": 4,
 "nbformat_minor": 2
}
